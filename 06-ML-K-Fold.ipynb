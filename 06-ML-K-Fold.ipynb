{
 "cells": [
  {
   "cell_type": "code",
   "execution_count": 1,
   "metadata": {},
   "outputs": [],
   "source": [
    "import warnings\n",
    "warnings.filterwarnings('always')\n",
    "warnings.filterwarnings('ignore')"
   ]
  },
  {
   "cell_type": "code",
   "execution_count": 2,
   "metadata": {},
   "outputs": [
    {
     "data": {
      "text/plain": [
       "[name: \"/device:CPU:0\"\n",
       " device_type: \"CPU\"\n",
       " memory_limit: 268435456\n",
       " locality {\n",
       " }\n",
       " incarnation: 16846429485187510345, name: \"/device:GPU:0\"\n",
       " device_type: \"GPU\"\n",
       " memory_limit: 2871308014\n",
       " locality {\n",
       "   bus_id: 1\n",
       "   links {\n",
       "   }\n",
       " }\n",
       " incarnation: 4899010019971191749\n",
       " physical_device_desc: \"device: 0, name: GeForce GTX 1080 Ti, pci bus id: 0000:01:00.0, compute capability: 6.1\"]"
      ]
     },
     "execution_count": 2,
     "metadata": {},
     "output_type": "execute_result"
    }
   ],
   "source": [
    "from tensorflow.python.client import device_lib\n",
    "device_lib.list_local_devices()"
   ]
  },
  {
   "cell_type": "code",
   "execution_count": 33,
   "metadata": {},
   "outputs": [],
   "source": [
    "import os\n",
    "import numpy as np\n",
    "np.random.seed(777)\n",
    "\n",
    "import keras.backend as K\n",
    "from keras.preprocessing.image import ImageDataGenerator\n",
    "from sklearn.externals import joblib\n",
    "from sklearn.metrics import confusion_matrix\n",
    "from sklearn.metrics import confusion_matrix, classification_report\n",
    "\n",
    "import sklearn\n",
    "from sklearn import model_selection\n",
    "from sklearn.linear_model import LogisticRegression\n",
    "from sklearn.discriminant_analysis import LinearDiscriminantAnalysis\n",
    "from sklearn.neighbors import KNeighborsClassifier\n",
    "from sklearn.tree import DecisionTreeClassifier\n",
    "from sklearn.ensemble import RandomForestClassifier\n",
    "from sklearn.naive_bayes import GaussianNB\n",
    "from sklearn.svm import SVC\n",
    "from PIL import Image\n",
    "from sklearn.model_selection import KFold, train_test_split\n",
    "from sklearn.model_selection import cross_val_score\n",
    "from sklearn.metrics import accuracy_score\n",
    "\n",
    "from sklearn.ensemble import RandomForestClassifier\n",
    "\n",
    "from tqdm import tqdm\n",
    "import matplotlib.pyplot as plt\n",
    "%matplotlib inline"
   ]
  },
  {
   "cell_type": "code",
   "execution_count": 4,
   "metadata": {},
   "outputs": [],
   "source": [
    "img_height, img_width = 224, 224\n",
    "\n",
    "nb_train_samples = 386\n",
    "nb_validation_samples = 199\n",
    "nb_test_samples = 155"
   ]
  },
  {
   "cell_type": "code",
   "execution_count": 5,
   "metadata": {},
   "outputs": [],
   "source": [
    "train_dir = 'data_reduced/train/'\n",
    "validation_dir = 'data_reduced/validation'\n",
    "test_dir = 'data_reduced/test'"
   ]
  },
  {
   "cell_type": "code",
   "execution_count": 6,
   "metadata": {},
   "outputs": [
    {
     "name": "stdout",
     "output_type": "stream",
     "text": [
      "Found 386 images belonging to 2 classes.\n",
      "Found 199 images belonging to 2 classes.\n",
      "Found 155 images belonging to 2 classes.\n"
     ]
    }
   ],
   "source": [
    "random_seed = np.random.seed(777)\n",
    "\n",
    "train_datagen = ImageDataGenerator(\n",
    "    rescale=1. / 255,\n",
    "    featurewise_center=True,\n",
    "    featurewise_std_normalization=True)\n",
    "\n",
    "train_generator = train_datagen.flow_from_directory(\n",
    "    train_dir,\n",
    "    target_size=(img_height, img_width),\n",
    "    batch_size = 1,\n",
    "    seed = random_seed,\n",
    "    shuffle = True,\n",
    "    class_mode='categorical')\n",
    "\n",
    "validation_generator = train_datagen.flow_from_directory(\n",
    "    validation_dir,\n",
    "    target_size=(img_height, img_width),\n",
    "    batch_size = 1,\n",
    "    seed = random_seed,\n",
    "    shuffle = True,\n",
    "    class_mode='categorical')\n",
    "\n",
    "test_datagen = ImageDataGenerator(rescale=1. / 255)\n",
    "\n",
    "test_generator = test_datagen.flow_from_directory(\n",
    "    test_dir,\n",
    "    target_size=(img_height, img_width),\n",
    "    batch_size=1,\n",
    "    seed = random_seed,\n",
    "    shuffle = False,\n",
    "    class_mode='categorical')"
   ]
  },
  {
   "cell_type": "code",
   "execution_count": 7,
   "metadata": {},
   "outputs": [
    {
     "name": "stderr",
     "output_type": "stream",
     "text": [
      "100%|███████████████████████████████████████████████████████████████████████████████| 386/386 [00:00<00:00, 594.46it/s]\n"
     ]
    }
   ],
   "source": [
    "X_train, y_train = [], []\n",
    "for _ in tqdm(range(nb_train_samples)):\n",
    "    x, y = train_generator.next()\n",
    "    X_train.append(x[0])\n",
    "    y_train.append(y[0])\n",
    "X_train = np.asarray(X_train)\n",
    "y_train = np.asarray(y_train)\n",
    "y_train = np.argmax(y_train, axis=1)\n",
    "# np.save('data/npy/X_train.npy', X_train)\n",
    "# np.save('data/npy/y_train.npy', y_train)"
   ]
  },
  {
   "cell_type": "code",
   "execution_count": 8,
   "metadata": {},
   "outputs": [],
   "source": [
    "X_train = np.array([x.flatten() for x in X_train])"
   ]
  },
  {
   "cell_type": "code",
   "execution_count": 9,
   "metadata": {},
   "outputs": [
    {
     "name": "stderr",
     "output_type": "stream",
     "text": [
      "100%|███████████████████████████████████████████████████████████████████████████████| 199/199 [00:00<00:00, 548.77it/s]\n"
     ]
    }
   ],
   "source": [
    "X_validation, y_validation = [], []\n",
    "for _ in tqdm(range(nb_validation_samples)):\n",
    "    x_val, y_val = validation_generator.next()\n",
    "    X_validation.append(x_val[0])\n",
    "    y_validation.append(y_val[0])\n",
    "X_validation = np.asarray(X_validation)\n",
    "y_validation = np.asarray(y_validation)\n",
    "y_validation = np.argmax(y_validation, axis=1)\n",
    "# np.save('data/npy/X_validation.npy', X_validation)\n",
    "# np.save('data/npy/y_validation.npy', y_validation)"
   ]
  },
  {
   "cell_type": "code",
   "execution_count": 10,
   "metadata": {},
   "outputs": [],
   "source": [
    "X_validation = np.array([x.flatten() for x in X_validation])"
   ]
  },
  {
   "cell_type": "code",
   "execution_count": 11,
   "metadata": {},
   "outputs": [
    {
     "name": "stderr",
     "output_type": "stream",
     "text": [
      "100%|███████████████████████████████████████████████████████████████████████████████| 155/155 [00:00<00:00, 601.38it/s]\n"
     ]
    }
   ],
   "source": [
    "X_test, y_test = [], []\n",
    "for _ in tqdm(range(nb_test_samples)):\n",
    "    x_t, y_t = test_generator.next()\n",
    "    X_test.append(x_t[0])\n",
    "    y_test.append(y_t[0])\n",
    "X_test = np.asarray(X_test)\n",
    "y_test = np.asarray(y_test)\n",
    "y_test = np.argmax(y_test, axis=1)\n",
    "# np.save('data/npy/X_test.npy', X_test)\n",
    "# np.save('data/npy/y_test.npy', y_test)"
   ]
  },
  {
   "cell_type": "code",
   "execution_count": 12,
   "metadata": {},
   "outputs": [],
   "source": [
    "X_test = np.array([x.flatten() for x in X_test])"
   ]
  },
  {
   "cell_type": "code",
   "execution_count": 13,
   "metadata": {},
   "outputs": [
    {
     "name": "stdout",
     "output_type": "stream",
     "text": [
      "X_train shape: (386, 150528)\n",
      "y_train shape: (386,)\n",
      "X_validation shape: (199, 150528)\n",
      "y_validation shape: (199,)\n",
      "X_test shape: (155, 150528)\n",
      "y_test shape: (155,)\n"
     ]
    }
   ],
   "source": [
    "print(\"X_train shape:\", X_train.shape)\n",
    "print(\"y_train shape:\", y_train.shape)\n",
    "print(\"X_validation shape:\", X_validation.shape)\n",
    "print(\"y_validation shape:\", y_validation.shape)\n",
    "print(\"X_test shape:\", X_test.shape)\n",
    "print(\"y_test shape:\", y_test.shape)\n",
    "# plt.imshow(X_train[0])\n",
    "# plt.show()"
   ]
  },
  {
   "cell_type": "markdown",
   "metadata": {},
   "source": [
    "____"
   ]
  },
  {
   "cell_type": "code",
   "execution_count": 18,
   "metadata": {},
   "outputs": [],
   "source": [
    "scoring = 'accuracy'\n",
    "\"\"\"Build Models: Let’s evaluate 6 different algorithms,\n",
    "Logistic Regression (LR)\n",
    "Linear Discriminant Analysis (LDA)\n",
    "K-Nearest Neighbors (KNN).\n",
    "Classification and Regression Trees (CART).\n",
    "Gaussian Naive Bayes (NB).\n",
    "Support Vector Machines (SVM).\"\"\"\n",
    "models = []\n",
    "models.append(('LR', LogisticRegression()))\n",
    "models.append(('LDA', LinearDiscriminantAnalysis()))\n",
    "models.append(('KNN', KNeighborsClassifier()))\n",
    "models.append(('CART', DecisionTreeClassifier()))\n",
    "models.append(('NB', GaussianNB()))\n",
    "models.append(('SVM', SVC(C=100)))"
   ]
  },
  {
   "cell_type": "code",
   "execution_count": 24,
   "metadata": {},
   "outputs": [
    {
     "name": "stdout",
     "output_type": "stream",
     "text": [
      "----------------model training accuracy--------------\n",
      "LR: 0.885830 (0.037410)\n",
      "LDA: 0.823684 (0.082653)\n",
      "KNN: 0.940216 (0.040442)\n",
      "CART: 0.917139 (0.030014)\n",
      "NB: 0.914507 (0.011815)\n",
      "SVM: 0.953104 (0.030672)\n"
     ]
    },
    {
     "data": {
      "text/plain": [
       "[Text(0, 0, 'LR'),\n",
       " Text(0, 0, 'LDA'),\n",
       " Text(0, 0, 'KNN'),\n",
       " Text(0, 0, 'CART'),\n",
       " Text(0, 0, 'NB'),\n",
       " Text(0, 0, 'SVM')]"
      ]
     },
     "execution_count": 24,
     "metadata": {},
     "output_type": "execute_result"
    },
    {
     "data": {
      "image/png": "[encoded data removed]",
      "text/plain": [
       "<Figure size 432x288 with 1 Axes>"
      ]
     },
     "metadata": {
      "needs_background": "light"
     },
     "output_type": "display_data"
    }
   ],
   "source": [
    "'''Evaluate each model in turn'''\n",
    "print(\"----------------model training accuracy--------------\")\n",
    "results = []\n",
    "names = []\n",
    "for name, model in models:\n",
    "    kfold = model_selection.KFold(n_splits=10, random_state=7)\n",
    "    cv_results = model_selection.cross_val_score(model, X_train, y_train, cv=kfold, scoring=scoring)\n",
    "    results.append(cv_results)\n",
    "    names.append(name)\n",
    "    msg = \"%s: %f (%f)\" % (name, cv_results.mean(), cv_results.std())\n",
    "    print(msg)\n",
    "# Compare algorithms\n",
    "fig = plt.figure()\n",
    "fig.suptitle('Algorithm Comparison')\n",
    "ax = fig.add_subplot(111)\n",
    "plt.boxplot(results)\n",
    "ax.set_xticklabels(names)"
   ]
  },
  {
   "cell_type": "code",
   "execution_count": 34,
   "metadata": {},
   "outputs": [
    {
     "name": "stdout",
     "output_type": "stream",
     "text": [
      "---------------model validation accuracy-------------\n",
      "LR: 0.541935\n",
      "Confusion matrix:\n",
      "[[38 71]\n",
      " [ 0 46]]\n",
      "classification report:\n",
      "              precision    recall  f1-score   support\n",
      "\n",
      "           0       1.00      0.35      0.52       109\n",
      "           1       0.39      1.00      0.56        46\n",
      "\n",
      "   micro avg       0.54      0.54      0.54       155\n",
      "   macro avg       0.70      0.67      0.54       155\n",
      "weighted avg       0.82      0.54      0.53       155\n",
      "\n",
      "LDA: 0.567742\n",
      "Confusion matrix:\n",
      "[[48 61]\n",
      " [ 6 40]]\n",
      "classification report:\n",
      "              precision    recall  f1-score   support\n",
      "\n",
      "           0       0.89      0.44      0.59       109\n",
      "           1       0.40      0.87      0.54        46\n",
      "\n",
      "   micro avg       0.57      0.57      0.57       155\n",
      "   macro avg       0.64      0.65      0.57       155\n",
      "weighted avg       0.74      0.57      0.58       155\n",
      "\n",
      "KNN: 0.503226\n",
      "Confusion matrix:\n",
      "[[32 77]\n",
      " [ 0 46]]\n",
      "classification report:\n",
      "              precision    recall  f1-score   support\n",
      "\n",
      "           0       1.00      0.29      0.45       109\n",
      "           1       0.37      1.00      0.54        46\n",
      "\n",
      "   micro avg       0.50      0.50      0.50       155\n",
      "   macro avg       0.69      0.65      0.50       155\n",
      "weighted avg       0.81      0.50      0.48       155\n",
      "\n",
      "CART: 0.548387\n",
      "Confusion matrix:\n",
      "[[41 68]\n",
      " [ 2 44]]\n",
      "classification report:\n",
      "              precision    recall  f1-score   support\n",
      "\n",
      "           0       0.95      0.38      0.54       109\n",
      "           1       0.39      0.96      0.56        46\n",
      "\n",
      "   micro avg       0.55      0.55      0.55       155\n",
      "   macro avg       0.67      0.67      0.55       155\n",
      "weighted avg       0.79      0.55      0.54       155\n",
      "\n",
      "NB: 0.612903\n",
      "Confusion matrix:\n",
      "[[53 56]\n",
      " [ 4 42]]\n",
      "classification report:\n",
      "              precision    recall  f1-score   support\n",
      "\n",
      "           0       0.93      0.49      0.64       109\n",
      "           1       0.43      0.91      0.58        46\n",
      "\n",
      "   micro avg       0.61      0.61      0.61       155\n",
      "   macro avg       0.68      0.70      0.61       155\n",
      "weighted avg       0.78      0.61      0.62       155\n",
      "\n",
      "SVM: 0.561290\n",
      "Confusion matrix:\n",
      "[[41 68]\n",
      " [ 0 46]]\n",
      "classification report:\n",
      "              precision    recall  f1-score   support\n",
      "\n",
      "           0       1.00      0.38      0.55       109\n",
      "           1       0.40      1.00      0.57        46\n",
      "\n",
      "   micro avg       0.56      0.56      0.56       155\n",
      "   macro avg       0.70      0.69      0.56       155\n",
      "weighted avg       0.82      0.56      0.56       155\n",
      "\n"
     ]
    }
   ],
   "source": [
    "save_dir = \"models\"\n",
    "\n",
    "print(\"---------------model validation accuracy-------------\")\n",
    "for name, model in models:\n",
    "    model = model.fit(X_train, y_train)\n",
    "    predictions = model.predict(X_test)\n",
    "    print(\"%s: %f\" % (name, accuracy_score(y_test, predictions)))\n",
    "    joblib.dump(model, save_dir + name + '.pkl')\n",
    "    print(\"Confusion matrix:\")\n",
    "    print(confusion_matrix(y_test, predictions))\n",
    "    print(\"classification report:\")\n",
    "    print(classification_report(y_test, predictions))"
   ]
  }
 ],
 "metadata": {
  "kernelspec": {
   "display_name": "Python 3",
   "language": "python",
   "name": "python3"
  },
  "language_info": {
   "codemirror_mode": {
    "name": "ipython",
    "version": 3
   },
   "file_extension": ".py",
   "mimetype": "text/x-python",
   "name": "python",
   "nbconvert_exporter": "python",
   "pygments_lexer": "ipython3",
   "version": "3.5.2"
  }
 },
 "nbformat": 4,
 "nbformat_minor": 2
}
