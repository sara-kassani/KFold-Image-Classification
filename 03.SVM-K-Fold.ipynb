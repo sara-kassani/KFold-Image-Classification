{
 "cells": [
  {
   "cell_type": "code",
   "execution_count": 1,
   "metadata": {},
   "outputs": [],
   "source": [
    "import warnings\n",
    "warnings.filterwarnings('always')\n",
    "warnings.filterwarnings('ignore')"
   ]
  },
  {
   "cell_type": "code",
   "execution_count": 2,
   "metadata": {},
   "outputs": [
    {
     "data": {
      "text/plain": [
       "[name: \"/device:CPU:0\"\n",
       " device_type: \"CPU\"\n",
       " memory_limit: 268435456\n",
       " locality {\n",
       " }\n",
       " incarnation: 12815932513595719851, name: \"/device:GPU:0\"\n",
       " device_type: \"GPU\"\n",
       " memory_limit: 9214062756\n",
       " locality {\n",
       "   bus_id: 1\n",
       "   links {\n",
       "   }\n",
       " }\n",
       " incarnation: 1864648334589026242\n",
       " physical_device_desc: \"device: 0, name: GeForce GTX 1080 Ti, pci bus id: 0000:01:00.0, compute capability: 6.1\"]"
      ]
     },
     "execution_count": 2,
     "metadata": {},
     "output_type": "execute_result"
    }
   ],
   "source": [
    "from tensorflow.python.client import device_lib\n",
    "device_lib.list_local_devices()"
   ]
  },
  {
   "cell_type": "code",
   "execution_count": 3,
   "metadata": {},
   "outputs": [
    {
     "name": "stderr",
     "output_type": "stream",
     "text": [
      "Using TensorFlow backend.\n"
     ]
    }
   ],
   "source": [
    "import os\n",
    "import numpy as np\n",
    "np.random.seed(777)\n",
    "\n",
    "import keras.backend as K\n",
    "from keras.preprocessing.image import ImageDataGenerator\n",
    "\n",
    "import sklearn\n",
    "from sklearn.linear_model import SGDClassifier\n",
    "from sklearn.model_selection import cross_val_score\n",
    "from sklearn.metrics import accuracy_score\n",
    "import xgboost\n",
    "\n",
    "# from sklearn.model_selection import train_test_split\n",
    "from sklearn.ensemble import AdaBoostClassifier\n",
    "from sklearn.ensemble import RandomForestClassifier\n",
    "from sklearn.tree import DecisionTreeClassifier\n",
    "\n",
    "from tqdm import tqdm\n",
    "import matplotlib.pyplot as plt\n",
    "%matplotlib inline"
   ]
  },
  {
   "cell_type": "code",
   "execution_count": 4,
   "metadata": {},
   "outputs": [],
   "source": [
    "img_height, img_width = 224, 224\n",
    "\n",
    "nb_train_samples = 386\n",
    "nb_validation_samples = 199\n",
    "nb_test_samples = 155"
   ]
  },
  {
   "cell_type": "code",
   "execution_count": 5,
   "metadata": {},
   "outputs": [],
   "source": [
    "train_dir = 'data_reduced/train/'\n",
    "validation_dir = 'data_reduced/validation'\n",
    "test_dir = 'data_reduced/test'"
   ]
  },
  {
   "cell_type": "code",
   "execution_count": 6,
   "metadata": {},
   "outputs": [
    {
     "name": "stdout",
     "output_type": "stream",
     "text": [
      "Found 386 images belonging to 2 classes.\n",
      "Found 199 images belonging to 2 classes.\n",
      "Found 155 images belonging to 2 classes.\n"
     ]
    }
   ],
   "source": [
    "random_seed = np.random.seed(777)\n",
    "\n",
    "train_datagen = ImageDataGenerator(\n",
    "    rescale=1. / 255,\n",
    "    featurewise_center=True,\n",
    "    featurewise_std_normalization=True)\n",
    "\n",
    "train_generator = train_datagen.flow_from_directory(\n",
    "    train_dir,\n",
    "    target_size=(img_height, img_width),\n",
    "    batch_size = 1,\n",
    "    seed = random_seed,\n",
    "    shuffle = True,\n",
    "    class_mode='categorical')\n",
    "\n",
    "validation_generator = train_datagen.flow_from_directory(\n",
    "    validation_dir,\n",
    "    target_size=(img_height, img_width),\n",
    "    batch_size = 1,\n",
    "    seed = random_seed,\n",
    "    shuffle = True,\n",
    "    class_mode='categorical')\n",
    "\n",
    "test_datagen = ImageDataGenerator(rescale=1. / 255)\n",
    "\n",
    "test_generator = test_datagen.flow_from_directory(\n",
    "    test_dir,\n",
    "    target_size=(img_height, img_width),\n",
    "    batch_size=1,\n",
    "    seed = random_seed,\n",
    "    shuffle = False,\n",
    "    class_mode='categorical')"
   ]
  },
  {
   "cell_type": "code",
   "execution_count": 9,
   "metadata": {},
   "outputs": [
    {
     "name": "stderr",
     "output_type": "stream",
     "text": [
      "100%|███████████████████████████████████████████████████████████████████████████████| 386/386 [00:01<00:00, 356.45it/s]\n"
     ]
    }
   ],
   "source": [
    "X_train, y_train = [], []\n",
    "for _ in tqdm(range(nb_train_samples)):\n",
    "    x, y = train_generator.next()\n",
    "    X_train.append(x[0])\n",
    "    y_train.append(y[0])\n",
    "X_train = np.asarray(X_train)\n",
    "y_train = np.asarray(y_train)\n",
    "y_train = np.argmax(y_train, axis=1)\n",
    "# np.save('data/npy/X_train.npy', X_train)\n",
    "# np.save('data/npy/y_train.npy', y_train)"
   ]
  },
  {
   "cell_type": "code",
   "execution_count": 10,
   "metadata": {},
   "outputs": [],
   "source": [
    "X_train = np.array([x.flatten() for x in X_train])"
   ]
  },
  {
   "cell_type": "code",
   "execution_count": 11,
   "metadata": {},
   "outputs": [
    {
     "name": "stderr",
     "output_type": "stream",
     "text": [
      "100%|███████████████████████████████████████████████████████████████████████████████| 199/199 [00:00<00:00, 426.55it/s]\n"
     ]
    }
   ],
   "source": [
    "X_validation, y_validation = [], []\n",
    "for _ in tqdm(range(nb_validation_samples)):\n",
    "    x_val, y_val = validation_generator.next()\n",
    "    X_validation.append(x_val[0])\n",
    "    y_validation.append(y_val[0])\n",
    "X_validation = np.asarray(X_validation)\n",
    "y_validation = np.asarray(y_validation)\n",
    "y_validation = np.argmax(y_validation, axis=1)\n",
    "# np.save('data/npy/X_validation.npy', X_validation)\n",
    "# np.save('data/npy/y_validation.npy', y_validation)"
   ]
  },
  {
   "cell_type": "code",
   "execution_count": 12,
   "metadata": {},
   "outputs": [],
   "source": [
    "X_validation = np.array([x.flatten() for x in X_validation])"
   ]
  },
  {
   "cell_type": "code",
   "execution_count": 13,
   "metadata": {},
   "outputs": [
    {
     "name": "stderr",
     "output_type": "stream",
     "text": [
      "100%|███████████████████████████████████████████████████████████████████████████████| 155/155 [00:00<00:00, 360.83it/s]\n"
     ]
    }
   ],
   "source": [
    "X_test, y_test = [], []\n",
    "for _ in tqdm(range(nb_test_samples)):\n",
    "    x_t, y_t = test_generator.next()\n",
    "    X_test.append(x_t[0])\n",
    "    y_test.append(y_t[0])\n",
    "X_test = np.asarray(X_test)\n",
    "y_test = np.asarray(y_test)\n",
    "y_test = np.argmax(y_test, axis=1)\n",
    "# np.save('data/npy/X_test.npy', X_test)\n",
    "# np.save('data/npy/y_test.npy', y_test)"
   ]
  },
  {
   "cell_type": "code",
   "execution_count": 14,
   "metadata": {},
   "outputs": [],
   "source": [
    "X_test = np.array([x.flatten() for x in X_test])"
   ]
  },
  {
   "cell_type": "code",
   "execution_count": 15,
   "metadata": {},
   "outputs": [
    {
     "name": "stdout",
     "output_type": "stream",
     "text": [
      "X_train shape: (386, 150528)\n",
      "y_train shape: (386,)\n",
      "X_validation shape: (199, 150528)\n",
      "y_validation shape: (199,)\n",
      "X_test shape: (155, 150528)\n",
      "y_test shape: (155,)\n"
     ]
    }
   ],
   "source": [
    "print(\"X_train shape:\", X_train.shape)\n",
    "print(\"y_train shape:\", y_train.shape)\n",
    "print(\"X_validation shape:\", X_validation.shape)\n",
    "print(\"y_validation shape:\", y_validation.shape)\n",
    "print(\"X_test shape:\", X_test.shape)\n",
    "print(\"y_test shape:\", y_test.shape)\n",
    "# plt.imshow(X_train[0])\n",
    "# plt.show()"
   ]
  },
  {
   "cell_type": "markdown",
   "metadata": {},
   "source": [
    "____"
   ]
  },
  {
   "cell_type": "code",
   "execution_count": 17,
   "metadata": {},
   "outputs": [
    {
     "data": {
      "text/plain": [
       "((386, 150528), (386,), (199, 150528), (199,))"
      ]
     },
     "execution_count": 17,
     "metadata": {},
     "output_type": "execute_result"
    }
   ],
   "source": [
    "np.savez('models/bottleneck_datasets.npz', X_train, y_train, X_validation, y_validation)\n",
    "\n",
    "data = np.load('models/bottleneck_datasets.npz')\n",
    "\n",
    "train_x = data['arr_0']\n",
    "train_y = data['arr_1']\n",
    "val_x = data['arr_2']\n",
    "val_y = data['arr_3']\n",
    "\n",
    "train_x.shape, train_y.shape, val_x.shape, val_y.shape"
   ]
  },
  {
   "cell_type": "code",
   "execution_count": 20,
   "metadata": {},
   "outputs": [
    {
     "name": "stderr",
     "output_type": "stream",
     "text": [
      "[Parallel(n_jobs=3)]: Using backend LokyBackend with 3 concurrent workers.\n",
      "[Parallel(n_jobs=3)]: Done   5 out of   5 | elapsed:  1.4min finished\n"
     ]
    },
    {
     "name": "stdout",
     "output_type": "stream",
     "text": [
      "finished in 85.48s\n",
      "Models took an average 27s to train and another 2s to score\n",
      "Average accuracy was 0.905 +- 0.019 during training\n",
      "Average accuracy was 0.907 +- 0.015 during testing\n",
      "Average F1 was 0.809 +- 0.046 during training\n",
      "Average F1 was 0.814 +- 0.031 during testing\n"
     ]
    }
   ],
   "source": [
    "import time\n",
    "from sklearn.svm import SVC\n",
    "from sklearn.linear_model import LogisticRegression\n",
    "from sklearn.ensemble import VotingClassifier\n",
    "from sklearn.metrics import accuracy_score, f1_score, make_scorer\n",
    "from sklearn.model_selection import cross_val_score, cross_validate, StratifiedShuffleSplit\n",
    "from sklearn.svm import LinearSVC\n",
    "from sklearn.decomposition import PCA\n",
    "from sklearn.discriminant_analysis import LinearDiscriminantAnalysis\n",
    "\n",
    "# f1_micro, f1_macro, f1_weighted\n",
    "scoring = {'accuracy': 'accuracy', 'f1': 'f1_macro'}\n",
    "\n",
    "svm_bottleneck_SVC = SVC(C=1.0, gamma='auto', probability=True, tol=0.001, verbose=False, decision_function_shape='ovr')\n",
    "\n",
    "\n",
    "t0 = time.time()\n",
    "scores = cross_validate(svm_bottleneck_SVC, train_x, train_y, scoring=scoring, cv=5, \n",
    "                        return_train_score=True, n_jobs=3, verbose=1)\n",
    "\n",
    "print('finished in %.2fs' % (time.time() - t0))\n",
    "\n",
    "print('Models took an average %ds to train and another %ds to score' % \n",
    "      (np.mean(scores['fit_time']), np.mean(scores['score_time'])))\n",
    "\n",
    "print('Average accuracy was %.3f +- %.3f during training' % \n",
    "      (np.mean(scores['train_accuracy']), np.std(scores['train_accuracy'])))\n",
    "\n",
    "print('Average accuracy was %.3f +- %.3f during testing' % \n",
    "      (np.mean(scores['test_accuracy']), np.std(scores['test_accuracy'])))\n",
    "\n",
    "print('Average F1 was %.3f +- %.3f during training' % \n",
    "      (np.mean(scores['train_f1']), np.std(scores['train_f1'])))\n",
    "\n",
    "print('Average F1 was %.3f +- %.3f during testing' % \n",
    "      (np.mean(scores['test_f1']), np.std(scores['test_f1'])))"
   ]
  },
  {
   "cell_type": "code",
   "execution_count": 19,
   "metadata": {},
   "outputs": [
    {
     "name": "stderr",
     "output_type": "stream",
     "text": [
      "[Parallel(n_jobs=3)]: Using backend LokyBackend with 3 concurrent workers.\n",
      "[Parallel(n_jobs=3)]: Done   5 out of   5 | elapsed:  2.4min finished\n"
     ]
    },
    {
     "name": "stdout",
     "output_type": "stream",
     "text": [
      "finished in 145.94s\n",
      "Models took an average 69s to train and another 0s to score\n",
      "Average accuracy was 1.000 +- 0.000 during training\n",
      "Average accuracy was 0.870 +- 0.017 during testing\n",
      "Average F1 was 1.000 +- 0.000 during training\n",
      "Average F1 was 0.768 +- 0.025 during testing\n"
     ]
    }
   ],
   "source": [
    "import time\n",
    "from sklearn.svm import SVC\n",
    "from sklearn.linear_model import LogisticRegression\n",
    "from sklearn.ensemble import VotingClassifier\n",
    "from sklearn.metrics import accuracy_score, f1_score, make_scorer\n",
    "from sklearn.model_selection import cross_val_score, cross_validate, StratifiedShuffleSplit\n",
    "from sklearn.svm import LinearSVC\n",
    "from sklearn.decomposition import PCA\n",
    "from sklearn.discriminant_analysis import LinearDiscriminantAnalysis\n",
    "\n",
    "# f1_micro, f1_macro, f1_weighted\n",
    "scoring = {'accuracy': 'accuracy', 'f1': 'f1_macro'}\n",
    "\n",
    "svm_bottleneck_LinearSVC = LinearSVC(penalty='l2', loss='squared_hinge', tol=0.0001,C=1.0,multi_class='ovr',\n",
    "                           verbose=0, max_iter=1000)\n",
    "\n",
    "\n",
    "t0 = time.time()\n",
    "scores = cross_validate(svm_bottleneck_LinearSVC, train_x, train_y, scoring=scoring, cv=5, \n",
    "                        return_train_score=True, n_jobs=3, verbose=1)\n",
    "\n",
    "print('finished in %.2fs' % (time.time() - t0))\n",
    "\n",
    "print('Models took an average %ds to train and another %ds to score' % \n",
    "      (np.mean(scores['fit_time']), np.mean(scores['score_time'])))\n",
    "\n",
    "print('Average accuracy was %.3f +- %.3f during training' % \n",
    "      (np.mean(scores['train_accuracy']), np.std(scores['train_accuracy'])))\n",
    "\n",
    "print('Average accuracy was %.3f +- %.3f during testing' % \n",
    "      (np.mean(scores['test_accuracy']), np.std(scores['test_accuracy'])))\n",
    "\n",
    "print('Average F1 was %.3f +- %.3f during training' % \n",
    "      (np.mean(scores['train_f1']), np.std(scores['train_f1'])))\n",
    "\n",
    "print('Average F1 was %.3f +- %.3f during testing' % \n",
    "      (np.mean(scores['test_f1']), np.std(scores['test_f1'])))"
   ]
  },
  {
   "cell_type": "markdown",
   "metadata": {},
   "source": [
    "### Predict on Test Set"
   ]
  },
  {
   "cell_type": "code",
   "execution_count": null,
   "metadata": {},
   "outputs": [],
   "source": [
    "val_x_lda = lda.transform(X_validation)\n",
    "\n",
    "\n",
    "svms = [SVC(C=1.0, gamma='auto', probability=True, tol=0.001, \n",
    "            verbose=False, decision_function_shape='ovr') for _ in range(3)]\n",
    "\n",
    "t0 = time.time()\n",
    "svms[0].fit(train_x_lda, train_y) # \n",
    "svms[1].fit(train_x_pca, train_y) # \n",
    "svms[2].fit(train_x, train_y)     # \n",
    "print('finished in %.1fs' % (time.time() - t0))\n",
    "\n",
    "test_x_lda = lda.transform(X_test)\n",
    "test_x_pca = pca.transform(X_test)\n",
    "\n",
    "lda_preds  = svms[0].predict(val_x_lda)\n",
    "pca_preds  = svms[1].predict(val_x_pca)\n",
    "nodr_preds = svms[2].predict(val_x)\n",
    "\n",
    "print(accuracy_score(val_y, lda_preds), f1_score(val_y, lda_preds, average='macro'))\n",
    "print(accuracy_score(val_y, pca_preds), f1_score(val_y, pca_preds, average='macro'))\n",
    "print(accuracy_score(val_y, nodr_preds), f1_score(val_y, nodr_preds, average='macro'))"
   ]
  },
  {
   "cell_type": "code",
   "execution_count": null,
   "metadata": {},
   "outputs": [],
   "source": []
  },
  {
   "cell_type": "code",
   "execution_count": null,
   "metadata": {},
   "outputs": [],
   "source": [
    "# RBF SVC variance estimated s^2 = (0.003)^2\n",
    "\n",
    "def inverse_variance_weighting(predictions, variances):\n",
    "    if len(predictions) != len(variances):\n",
    "        print('Precictions-variances mismatch.')\n",
    "        sys.exit(0)\n",
    "    \n",
    "    aa = np.sum(np.divide(predictions, variances))\n",
    "    bb = 1 / np.sum(variances)\n",
    "    \n",
    "    return aa / bb"
   ]
  },
  {
   "cell_type": "code",
   "execution_count": null,
   "metadata": {},
   "outputs": [],
   "source": [
    "voting_clf = VotingClassifier([model, svm_bottleneck])  # (inception model (first top model))\n",
    "voting_clf "
   ]
  }
 ],
 "metadata": {
  "kernelspec": {
   "display_name": "Python 3",
   "language": "python",
   "name": "python3"
  },
  "language_info": {
   "codemirror_mode": {
    "name": "ipython",
    "version": 3
   },
   "file_extension": ".py",
   "mimetype": "text/x-python",
   "name": "python",
   "nbconvert_exporter": "python",
   "pygments_lexer": "ipython3",
   "version": "3.5.2"
  }
 },
 "nbformat": 4,
 "nbformat_minor": 2
}
